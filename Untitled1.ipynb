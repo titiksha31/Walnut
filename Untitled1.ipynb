{
 "cells": [
  {
   "cell_type": "code",
   "execution_count": 1,
   "metadata": {},
   "outputs": [
    {
     "data": {
      "text/html": [
       "<div>\n",
       "<style scoped>\n",
       "    .dataframe tbody tr th:only-of-type {\n",
       "        vertical-align: middle;\n",
       "    }\n",
       "\n",
       "    .dataframe tbody tr th {\n",
       "        vertical-align: top;\n",
       "    }\n",
       "\n",
       "    .dataframe thead th {\n",
       "        text-align: right;\n",
       "    }\n",
       "</style>\n",
       "<table border=\"1\" class=\"dataframe\">\n",
       "  <thead>\n",
       "    <tr style=\"text-align: right;\">\n",
       "      <th></th>\n",
       "      <th>Code</th>\n",
       "      <th>TARGET</th>\n",
       "    </tr>\n",
       "  </thead>\n",
       "  <tbody>\n",
       "    <tr>\n",
       "      <th>0</th>\n",
       "      <td>Bin1</td>\n",
       "      <td>0.263285</td>\n",
       "    </tr>\n",
       "    <tr>\n",
       "      <th>1</th>\n",
       "      <td>Bin2</td>\n",
       "      <td>0.189033</td>\n",
       "    </tr>\n",
       "    <tr>\n",
       "      <th>2</th>\n",
       "      <td>Bin3</td>\n",
       "      <td>0.140401</td>\n",
       "    </tr>\n",
       "    <tr>\n",
       "      <th>3</th>\n",
       "      <td>Bin4</td>\n",
       "      <td>0.101768</td>\n",
       "    </tr>\n",
       "    <tr>\n",
       "      <th>4</th>\n",
       "      <td>Bin5</td>\n",
       "      <td>0.077245</td>\n",
       "    </tr>\n",
       "    <tr>\n",
       "      <th>5</th>\n",
       "      <td>Bin6</td>\n",
       "      <td>0.055226</td>\n",
       "    </tr>\n",
       "    <tr>\n",
       "      <th>6</th>\n",
       "      <td>Bin7</td>\n",
       "      <td>0.044190</td>\n",
       "    </tr>\n",
       "    <tr>\n",
       "      <th>7</th>\n",
       "      <td>Bin8</td>\n",
       "      <td>0.034610</td>\n",
       "    </tr>\n",
       "    <tr>\n",
       "      <th>8</th>\n",
       "      <td>Bin9</td>\n",
       "      <td>0.028729</td>\n",
       "    </tr>\n",
       "  </tbody>\n",
       "</table>\n",
       "</div>"
      ],
      "text/plain": [
       "   Code    TARGET\n",
       "0  Bin1  0.263285\n",
       "1  Bin2  0.189033\n",
       "2  Bin3  0.140401\n",
       "3  Bin4  0.101768\n",
       "4  Bin5  0.077245\n",
       "5  Bin6  0.055226\n",
       "6  Bin7  0.044190\n",
       "7  Bin8  0.034610\n",
       "8  Bin9  0.028729"
      ]
     },
     "execution_count": 1,
     "metadata": {},
     "output_type": "execute_result"
    }
   ],
   "source": [
    "import pandas as pd\n",
    "import matplotlib\n",
    "import numpy as np\n",
    "from sklearn import linear_model, model_selection\n",
    "def days_late_xform(dl):\n",
    "    if dl < 0.1: return 'Bin1'\n",
    "    elif 0.2 > dl <= 56: return 'Bin2'\n",
    "    elif 0.3 > dl <= 35: return 'Bin3'\n",
    "    elif 0.4 > dl <= 14: return 'Bin4'\n",
    "    elif 0.5 > dl <= 56: return 'Bin5'\n",
    "    elif 0.6 > dl <= 35: return 'Bin6'\n",
    "    elif 0.7 > dl <= 14: return 'Bin7'\n",
    "    elif 0.8 > dl <= 14: return 'Bin8'\n",
    "    else: return 'Bin9'\n",
    "data=pd.read_csv('/home/titiksha31/Walnut/home-credit-default-risk/application_train.csv', delimiter=',',index_col = False)\n",
    "data= data[data.EXT_SOURCE_3.notnull()]\n",
    "data[\"Code\"] = data['EXT_SOURCE_3'].map(days_late_xform)\n",
    "data.groupby('Code', as_index=False)['TARGET'].mean()\n",
    "\n",
    "    \n"
   ]
  },
  {
   "cell_type": "code",
   "execution_count": 1,
   "metadata": {},
   "outputs": [],
   "source": [
    "import pandas as pd\n",
    "import matplotlib\n",
    "import numpy as np\n",
    "from sklearn import linear_model, model_selection\n"
   ]
  },
  {
   "cell_type": "code",
   "execution_count": 2,
   "metadata": {},
   "outputs": [],
   "source": [
    "def days_late(dl):\n",
    "    i = data['EXT_SOURCE_3'].min()\n",
    "    while i < data['EXT_SOURCE_3'].max():\n",
    "        if (dl < i+0.01) & (dl >i-0.01) : \n",
    "            return ('Bin'+str(i))\n",
    "        i=i+0.02\n",
    "    \n"
   ]
  },
  {
   "cell_type": "code",
   "execution_count": 4,
   "metadata": {},
   "outputs": [
    {
     "data": {
      "text/plain": [
       "0.8960095494948396"
      ]
     },
     "execution_count": 4,
     "metadata": {},
     "output_type": "execute_result"
    }
   ],
   "source": [
    "data['EXT_SOURCE_3'].max()"
   ]
  },
  {
   "cell_type": "code",
   "execution_count": 3,
   "metadata": {},
   "outputs": [],
   "source": [
    "data=pd.read_csv('/home/titiksha31/Walnut/home-credit-default-risk/application_train.csv', delimiter=',',index_col = False)\n",
    "data= data[data.EXT_SOURCE_3.notnull()]\n",
    "#data.isnull().sum()"
   ]
  },
  {
   "cell_type": "code",
   "execution_count": null,
   "metadata": {},
   "outputs": [],
   "source": [
    "data[\"Code\"] = data['EXT_SOURCE_3'].map(days_late)\n",
    "data.groupby('Code', as_index=False)['TARGET'].mean()\n"
   ]
  },
  {
   "cell_type": "code",
   "execution_count": null,
   "metadata": {},
   "outputs": [],
   "source": []
  },
  {
   "cell_type": "code",
   "execution_count": null,
   "metadata": {},
   "outputs": [],
   "source": []
  }
 ],
 "metadata": {
  "kernelspec": {
   "display_name": "Python 3",
   "language": "python",
   "name": "python3"
  },
  "language_info": {
   "codemirror_mode": {
    "name": "ipython",
    "version": 3
   },
   "file_extension": ".py",
   "mimetype": "text/x-python",
   "name": "python",
   "nbconvert_exporter": "python",
   "pygments_lexer": "ipython3",
   "version": "3.5.2"
  }
 },
 "nbformat": 4,
 "nbformat_minor": 2
}
